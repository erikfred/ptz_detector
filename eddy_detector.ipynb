{
 "cells": [
  {
   "cell_type": "markdown",
   "id": "d2534f2a",
   "metadata": {},
   "source": [
    "# Eddy Detector"
   ]
  },
  {
   "cell_type": "markdown",
   "id": "6b8004a0",
   "metadata": {},
   "source": [
    "Term project for ESS 490/590\n",
    "\n",
    "Grad: Erik Fredrickson\n",
    "\n",
    "Undergrad: Ashika Capirala"
   ]
  },
  {
   "cell_type": "markdown",
   "id": "fbfae3bb",
   "metadata": {},
   "source": [
    "*Some kind of project description can go here*"
   ]
  },
  {
   "cell_type": "markdown",
   "id": "7d9f3b2d",
   "metadata": {},
   "source": [
    "put a reminder here about the dependencies, and include an example line of how to load the environment file (should be included in our directory)"
   ]
  },
  {
   "cell_type": "code",
   "execution_count": null,
   "id": "308838e9",
   "metadata": {},
   "outputs": [],
   "source": [
    "# imports (WILL NEED TO BE UPDATED AS WE GO!)\n",
    "import matplotlib.pyplot as plt\n",
    "import numpy as np\n",
    "import pandas as pd\n",
    "import random\n",
    "from math import cos, sin, pi, sqrt\n",
    "from mpl_toolkits.mplot3d import Axes3D\n",
    "from sklearn import preprocessing\n",
    "from sklearn.cluster import KMeans\n",
    "from sklearn.decomposition import PCA\n",
    "\n",
    "# Import the Obspy modules that will be useful to download seismic data\n",
    "import obspy\n",
    "import obspy.clients.fdsn.client as fdsn\n",
    "from obspy import UTCDateTime"
   ]
  },
  {
   "cell_type": "markdown",
   "id": "8943fe0a",
   "metadata": {},
   "source": [
    "### Import Data\n",
    "\n",
    "Get bottom temperature and bottom pressure from IRIS"
   ]
  },
  {
   "cell_type": "code",
   "execution_count": null,
   "id": "6cc641a1",
   "metadata": {},
   "outputs": [],
   "source": [
    "# Pull pressure and temperature data from IRIS\n",
    "network = 'XO'\n",
    "staNames = ['LA21', 'LA34', 'LA33', 'LA23', 'LA25', 'LA22', 'LA28', 'LA39', 'LA32', 'LA30', 'LT07', 'LT06', \\\n",
    "           'LT13', 'LT03', 'LT11', 'LT04', 'LT01', 'LT20', 'LT14', 'LT16', 'LT10', 'LT12']\n",
    "staCodes = 'LA21,LA34,LA33,LA23,LA25,LA22,LA28,LA39,LA32,LA30,LT07,LT06,LT13,LT03,LT11,LT04,LT01,LT20,LT14,LT16,LT10,LT12'\n",
    "chaNames = ['HDH', 'HKO']\n",
    "chaCodes='HDH,HKO'\n",
    "Tstart = UTCDateTime(2018, 06, 01)\n",
    "Tend = UTCDateTime(2019, 06, 20)\n",
    "\n",
    "fdsn_client = fdsn.Client('IRIS')\n",
    "\n",
    "# DO NOT RUN AS WRITTEN -- way too much data, so we'll need to make a loop to parse it by station and by day\n",
    "Dtmp = fdsn_client.get_waveforms(network=network, station=staCodes, location='--', channel=chaCodes, starttime=Tstart, \\\n",
    "    endtime=Tend, attach_response=False)"
   ]
  },
  {
   "cell_type": "code",
   "execution_count": null,
   "id": "35bf5e65",
   "metadata": {},
   "outputs": [],
   "source": []
  }
 ],
 "metadata": {
  "kernelspec": {
   "display_name": "Python 3",
   "language": "python",
   "name": "python3"
  },
  "language_info": {
   "codemirror_mode": {
    "name": "ipython",
    "version": 3
   },
   "file_extension": ".py",
   "mimetype": "text/x-python",
   "name": "python",
   "nbconvert_exporter": "python",
   "pygments_lexer": "ipython3",
   "version": "3.6.13"
  }
 },
 "nbformat": 4,
 "nbformat_minor": 5
}
