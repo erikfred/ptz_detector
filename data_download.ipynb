{
 "cells": [
  {
   "cell_type": "markdown",
   "id": "5f4f09e8",
   "metadata": {},
   "source": [
    "# Data Download - *read description before running*"
   ]
  },
  {
   "cell_type": "markdown",
   "id": "fbe135c2",
   "metadata": {},
   "source": [
    "Term project for ESS 490/590\n",
    "\n",
    "Grad: Erik Fredrickson\n",
    "\n",
    "Undergrad: Ashika Capirala"
   ]
  },
  {
   "cell_type": "markdown",
   "id": "0df02909",
   "metadata": {},
   "source": [
    "*This notebook demonstrates how the open access datasets can be downloaded, but these data are provided at significantly higher temporal resolution than needed for the purposes of our study, so for the sake of this project we recommend that the user use the provided reduced data, which will save significant time, computing power, and disc space*"
   ]
  },
  {
   "cell_type": "markdown",
   "id": "af944a96",
   "metadata": {},
   "source": [
    "put a reminder here about the dependencies, and include an example line of how to load the environment file (should be included in our directory)"
   ]
  },
  {
   "cell_type": "code",
   "execution_count": 1,
   "id": "184e98df",
   "metadata": {},
   "outputs": [],
   "source": [
    "# imports (WILL NEED TO BE UPDATED AS WE GO!)\n",
    "import random\n",
    "from math import cos, sin, pi, sqrt\n",
    "from mpl_toolkits.mplot3d import Axes3D\n",
    "from sklearn import preprocessing\n",
    "from sklearn.cluster import KMeans\n",
    "from sklearn.decomposition import PCA\n",
    "\n",
    "# keep these\n",
    "import matplotlib.pyplot as plt\n",
    "import numpy as np\n",
    "import pandas as pd\n",
    "import netCDF4 as nc\n",
    "\n",
    "# Import the Obspy modules that will be useful to download IRIS data\n",
    "import obspy\n",
    "import obspy.clients.fdsn.client as fdsn\n",
    "from obspy import UTCDateTime"
   ]
  },
  {
   "cell_type": "markdown",
   "id": "43fcb3cc",
   "metadata": {},
   "source": [
    "## Import Data\n",
    "\n",
    "### APG pressures and temperatures\n",
    "\n",
    "Get bottom temperature and bottom pressure from IRIS (https://www.iris.edu/hq/; https://doi.org/10.7914/SN/XO_2018)"
   ]
  },
  {
   "cell_type": "code",
   "execution_count": null,
   "id": "0be5f951",
   "metadata": {},
   "outputs": [],
   "source": [
    "# Pull pressure and temperature data from IRIS\n",
    "network = 'XO'\n",
    "staNames = ['LA21', 'LA34', 'LA33', 'LA23', 'LA25', 'LA22', 'LA28', 'LA39', 'LA32', 'LA30', 'LT07', 'LT06', \\\n",
    "           'LT13', 'LT03', 'LT11', 'LT04', 'LT01', 'LT20', 'LT14', 'LT16', 'LT10', 'LT12']\n",
    "staCodes = 'LA21,LA34,LA33,LA23,LA25,LA22,LA28,LA39,LA32,LA30,LT07,LT06,LT13,LT03,LT11,LT04,LT01,LT20,LT14,LT16,LT10,LT12'\n",
    "chaNames = ['HDH', 'HKO']\n",
    "chaCodes='HDH,HKO'\n",
    "Tstart = UTCDateTime(2018, 06, 01)\n",
    "Tend = UTCDateTime(2019, 06, 20)\n",
    "\n",
    "fdsn_client = fdsn.Client('IRIS')\n",
    "\n",
    "# DO NOT RUN AS WRITTEN -- way too much data, so we'll need to make a loop to parse it by station and by day\n",
    "Dtmp = fdsn_client.get_waveforms(network=network, station=staCodes, location='--', channel=chaCodes, starttime=Tstart, \\\n",
    "    endtime=Tend, attach_response=False)"
   ]
  },
  {
   "cell_type": "markdown",
   "id": "15d29b83",
   "metadata": {},
   "source": [
    "### Satellite altimetry\n",
    "\n",
    "Get altimetry data from Copernicus Marine (https://marine.copernicus.eu/; https://resources.marine.copernicus.eu/?option=com_csw&view=details&product_id=SEALEVEL_GLO_PHY_CLIMATE_L4_REP_OBSERVATIONS_008_057)"
   ]
  },
  {
   "cell_type": "code",
   "execution_count": null,
   "id": "fb1312b4",
   "metadata": {},
   "outputs": [],
   "source": [
    "# Will not work as written. Need to install the motuclient, replace <EXAMPLE> terms with my values\n",
    "python -m motuclient --motu https://my.cmems-du.eu/motu-web/Motu --service-id \\\n",
    "    SEALEVEL_GLO_PHY_CLIMATE_L4_REP_OBSERVATIONS_008_057-TDS --product-id \\\n",
    "    dataset-duacs-rep-global-merged-twosat-phy-l4 --longitude-min 0.125 \\\n",
    "    --longitude-max -0.125 --latitude-min -89.875 --latitude-max 89.875 \\\n",
    "    --date-min \"2020-06-03 00:00:00\" --date-max \"2020-06-03 00:00:00\" \\\n",
    "    --variable adt --variable err --variable sla --variable ugos --variable ugosa \\\n",
    "    --variable vgos --variable vgosa --out-dir <OUTPUT_DIRECTORY> --out-name \\\n",
    "    <OUTPUT_FILENAME> --user <USERNAME> --pwd <PASSWORD>"
   ]
  },
  {
   "cell_type": "markdown",
   "id": "dd96c484",
   "metadata": {},
   "source": [
    "### Oceanographic model\n",
    "\n",
    "Model data not currently publicly available :(\n",
    "Load from netcdf"
   ]
  },
  {
   "cell_type": "markdown",
   "id": "7dc4e975",
   "metadata": {},
   "source": [
    "## Training Data (maybe)\n",
    "\n",
    "### Eddy presence/absence"
   ]
  },
  {
   "cell_type": "markdown",
   "id": "f6c7ff52",
   "metadata": {},
   "source": [
    "Labeled dataset hosted by AVISO. Requires registration, but free for academics (https://www.aviso.altimetry.fr/en/home.html; https://doi.org/10.24400/527896/a01-2021.001)\n",
    "\n",
    "Full code is available on GitHub! (https://github.com/AntSimi/py-eddy-tracker)\n",
    "\n",
    "<img src=\"eddy_field.jpg\" width=\"600\">\n",
    "<center>https://doi.org/10.1175/JTECH-D-14-00019.1</center>"
   ]
  },
  {
   "cell_type": "code",
   "execution_count": null,
   "id": "2db8fb68",
   "metadata": {},
   "outputs": [],
   "source": []
  }
 ],
 "metadata": {
  "kernelspec": {
   "display_name": "Python 3",
   "language": "python",
   "name": "python3"
  },
  "language_info": {
   "codemirror_mode": {
    "name": "ipython",
    "version": 3
   },
   "file_extension": ".py",
   "mimetype": "text/x-python",
   "name": "python",
   "nbconvert_exporter": "python",
   "pygments_lexer": "ipython3",
   "version": "3.6.13"
  }
 },
 "nbformat": 4,
 "nbformat_minor": 5
}
