{
 "cells": [
  {
   "cell_type": "markdown",
   "id": "d26115a1",
   "metadata": {},
   "source": [
    "# Data Download - *read description before running*"
   ]
  },
  {
   "cell_type": "markdown",
   "id": "429633bc",
   "metadata": {},
   "source": [
    "Term project for ESS 490/590\n",
    "\n",
    "Grad: Erik Fredrickson\n",
    "\n",
    "Undergrad: Ashika Capirala"
   ]
  },
  {
   "cell_type": "markdown",
   "id": "9932c6e8",
   "metadata": {},
   "source": [
    "*This notebook demonstrates how the open access datasets can be downloaded, but these data are provided at significantly higher temporal resolution than needed for the purposes of our study, so for the sake of this project we recommend that the user use the provided reduced data, which will save significant time, computing power, and disc space.*"
   ]
  },
  {
   "cell_type": "code",
   "execution_count": 1,
   "id": "1314d9ac",
   "metadata": {},
   "outputs": [],
   "source": [
    "# Imports\n",
    "import obspy\n",
    "import obspy.clients.fdsn.client as fdsn\n",
    "from obspy import UTCDateTime"
   ]
  },
  {
   "cell_type": "markdown",
   "id": "f07ea9f3",
   "metadata": {},
   "source": [
    "## APG pressures and temperatures\n",
    "\n",
    "Get bottom temperature and bottom pressure from IRIS (https://www.iris.edu/hq/; https://doi.org/10.7914/SN/XO_2018)\n",
    "\n",
    "<img src=\"AACSE.png\" width=\"600\">\n",
    "<center>Alaska Amphibious Community Seismic Experiment</center>"
   ]
  },
  {
   "cell_type": "code",
   "execution_count": null,
   "id": "f94d3350",
   "metadata": {},
   "outputs": [],
   "source": [
    "# Pull pressure and temperature data from IRIS\n",
    "network = 'XO'\n",
    "staNames = ['LA21', 'LA34', 'LA33', 'LA23', 'LA25', 'LA22', 'LA28', 'LA39', 'LA32', 'LA30', 'LT07', 'LT06', \\\n",
    "           'LT13', 'LT03', 'LT11', 'LT04', 'LT01', 'LT20', 'LT14', 'LT16', 'LT10', 'LT12']\n",
    "staCodes = 'LA21,LA34,LA33,LA23,LA25,LA22,LA28,LA39,LA32,LA30,LT07,LT06,LT13,LT03,LT11,LT04,LT01,LT20,LT14,LT16,LT10,LT12'\n",
    "chaNames = ['HDH', 'HKO']\n",
    "chaCodes='HDH,HKO'\n",
    "Tstart = UTCDateTime(2018, 06, 01)\n",
    "Tend = UTCDateTime(2019, 06, 20)\n",
    "\n",
    "fdsn_client = fdsn.Client('IRIS')\n",
    "\n",
    "# DO NOT RUN AS WRITTEN -- way too much data, so we'll need to make a loop to parse it by station and by day\n",
    "Dtmp = fdsn_client.get_waveforms(network=network, station=staCodes, location='--', channel=chaCodes, starttime=Tstart, \\\n",
    "    endtime=Tend, attach_response=False)"
   ]
  },
  {
   "cell_type": "markdown",
   "id": "c66675ca",
   "metadata": {},
   "source": [
    "## Satellite altimetry\n",
    "\n",
    "Get altimetry data from Copernicus Marine (https://marine.copernicus.eu/; https://resources.marine.copernicus.eu/?option=com_csw&view=details&product_id=SEALEVEL_GLO_PHY_CLIMATE_L4_REP_OBSERVATIONS_008_057)\n",
    "\n",
    "<img src=\"jason-2-altimeter.jpg\" width=\"600\">\n",
    "<center>Jason-2 Satellite</center>"
   ]
  },
  {
   "cell_type": "code",
   "execution_count": 1,
   "id": "23d9e300",
   "metadata": {},
   "outputs": [
    {
     "name": "stdout",
     "output_type": "stream",
     "text": [
      "Collecting motuclient\n",
      "  Downloading motuclient-1.8.8.tar.gz (30 kB)\n",
      "Building wheels for collected packages: motuclient\n",
      "  Building wheel for motuclient (setup.py) ... \u001b[?25ldone\n",
      "\u001b[?25h  Created wheel for motuclient: filename=motuclient-1.8.8-py3-none-any.whl size=34205 sha256=83d62167dbfe284e1de30763a39c7b71a92ab49edd6ff972d4a9b09e6cc6a208\n",
      "  Stored in directory: /Users/erikfred/Library/Caches/pip/wheels/e6/16/94/3e40d579a5a03c17f2123e2dd13c5389c2e7515f49487fd88e\n",
      "Successfully built motuclient\n",
      "Installing collected packages: motuclient\n",
      "Successfully installed motuclient-1.8.8\n"
     ]
    }
   ],
   "source": [
    "# installer to handle data download\n",
    "!pip install motuclient --upgrade"
   ]
  },
  {
   "cell_type": "code",
   "execution_count": null,
   "id": "678447d7",
   "metadata": {},
   "outputs": [],
   "source": [
    "# Get desired data (would need to change directory, user, and password fields)\n",
    "!python -m motuclient --motu https://my.cmems-du.eu/motu-web/Motu --service-id \\\n",
    "    SEALEVEL_GLO_PHY_CLIMATE_L4_REP_OBSERVATIONS_008_057-TDS --product-id \\\n",
    "    dataset-duacs-rep-global-merged-twosat-phy-l4 --longitude-min 198 \\\n",
    "    --longitude-max 210 --latitude-min 53 --latitude-max 60 \\\n",
    "    --date-min \"2018-06-01 00:00:00\" --date-max \"2019-06-20 23:59:59\" \\\n",
    "    --variable adt --variable err --variable sla --variable ugos --variable ugosa \\\n",
    "    --variable vgos --variable vgosa --out-dir <OUTPUT_DIRECTORY> --out-name \\\n",
    "    <OUTPUT_FILENAME> --user <USERNAME> --pwd <PASSWORD>"
   ]
  },
  {
   "cell_type": "markdown",
   "id": "e7904dfe",
   "metadata": {},
   "source": [
    "## Oceanographic model\n",
    "\n",
    "Model data not currently publicly available :(\n",
    "Load from netcdf"
   ]
  },
  {
   "cell_type": "markdown",
   "id": "0cc5c3c3",
   "metadata": {},
   "source": [
    "## Eddy catalog"
   ]
  },
  {
   "cell_type": "markdown",
   "id": "8777b322",
   "metadata": {},
   "source": [
    "Labeled dataset hosted by AVISO. Requires registration, but free for academics (https://www.aviso.altimetry.fr/en/home.html; https://doi.org/10.24400/527896/a01-2021.001)\n",
    "\n",
    "Full code is available on GitHub! (https://github.com/AntSimi/py-eddy-tracker)\n",
    "\n",
    "<img src=\"eddy_field.jpg\" width=\"600\">\n",
    "<center>https://doi.org/10.1175/JTECH-D-14-00019.1</center>"
   ]
  },
  {
   "cell_type": "code",
   "execution_count": null,
   "id": "f98d3e3e",
   "metadata": {},
   "outputs": [],
   "source": []
  }
 ],
 "metadata": {
  "kernelspec": {
   "display_name": "Python 3",
   "language": "python",
   "name": "python3"
  },
  "language_info": {
   "codemirror_mode": {
    "name": "ipython",
    "version": 3
   },
   "file_extension": ".py",
   "mimetype": "text/x-python",
   "name": "python",
   "nbconvert_exporter": "python",
   "pygments_lexer": "ipython3",
   "version": "3.6.13"
  }
 },
 "nbformat": 4,
 "nbformat_minor": 5
}
